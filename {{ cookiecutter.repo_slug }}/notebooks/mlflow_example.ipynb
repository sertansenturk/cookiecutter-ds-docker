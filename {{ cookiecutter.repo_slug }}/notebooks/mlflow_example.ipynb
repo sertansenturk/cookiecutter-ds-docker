{
 "cells": [
  {
   "cell_type": "code",
   "execution_count": 1,
   "metadata": {},
   "outputs": [
    {
     "name": "stdout",
     "output_type": "stream",
     "text": [
      "INFO: 'test_experiment' does not exist. Creating a new experiment\n"
     ]
    }
   ],
   "source": [
    "import mlflow\n",
    "mlflow.set_experiment('test_experiment')\n",
    "with mlflow.start_run():\n",
    "    mlflow.log_param(\"name\", \"test\")\n",
    "    mlflow.log_param(\"weather\", \"sunny\")\n",
    "    mlflow.log_param(\"mood\", \"great\")\n",
    "    \n",
    "    for i in range(10):\n",
    "        mlflow.log_metric(\"i\", i**2, step=i)\n",
    "    mlflow.log_artifact(\"mlflow_example.ipynb\")"
   ]
  },
  {
   "cell_type": "markdown",
   "metadata": {},
   "source": [
    "You can access *mlflow UI* at http://localhost:5000/"
   ]
  }
 ],
 "metadata": {
  "kernelspec": {
   "display_name": "Python 3",
   "language": "python",
   "name": "python3"
  },
  "language_info": {
   "codemirror_mode": {
    "name": "ipython",
    "version": 3
   },
   "file_extension": ".py",
   "mimetype": "text/x-python",
   "name": "python",
   "nbconvert_exporter": "python",
   "pygments_lexer": "ipython3",
   "version": "3.7.6"
  },
  "toc": {
   "base_numbering": 1,
   "nav_menu": {},
   "number_sections": true,
   "sideBar": true,
   "skip_h1_title": false,
   "title_cell": "Table of Contents",
   "title_sidebar": "Contents",
   "toc_cell": false,
   "toc_position": {},
   "toc_section_display": true,
   "toc_window_display": false
  }
 },
 "nbformat": 4,
 "nbformat_minor": 4
}
